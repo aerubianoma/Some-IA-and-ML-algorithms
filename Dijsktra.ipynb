{
  "nbformat": 4,
  "nbformat_minor": 0,
  "metadata": {
    "colab": {
      "name": "Dijsktra-IA.ipynb",
      "provenance": [],
      "collapsed_sections": []
    },
    "kernelspec": {
      "name": "python3",
      "display_name": "Python 3"
    },
    "language_info": {
      "name": "python"
    }
  },
  "cells": [
    {
      "cell_type": "code",
      "metadata": {
        "colab": {
          "base_uri": "https://localhost:8080/"
        },
        "id": "jgc5trgGF9qf",
        "outputId": "8f9a0a7f-b5ea-4151-f937-e855cd1b7104"
      },
      "source": [
        "!pip install treelib"
      ],
      "execution_count": null,
      "outputs": [
        {
          "output_type": "stream",
          "name": "stdout",
          "text": [
            "Collecting treelib\n",
            "  Downloading treelib-1.6.1.tar.gz (24 kB)\n",
            "Requirement already satisfied: future in /usr/local/lib/python3.7/dist-packages (from treelib) (0.16.0)\n",
            "Building wheels for collected packages: treelib\n",
            "  Building wheel for treelib (setup.py) ... \u001b[?25l\u001b[?25hdone\n",
            "  Created wheel for treelib: filename=treelib-1.6.1-py3-none-any.whl size=18386 sha256=9fda8fc5de5cf5c487bc2706b55accecb9e0bf99b923a902d1f32bbc89564102\n",
            "  Stored in directory: /root/.cache/pip/wheels/89/be/94/2c6d949ce599d1443426d83ba4dc93cd35c0f4638260930a53\n",
            "Successfully built treelib\n",
            "Installing collected packages: treelib\n",
            "Successfully installed treelib-1.6.1\n"
          ]
        }
      ]
    },
    {
      "cell_type": "code",
      "metadata": {
        "id": "_VVQMclyFAjN",
        "colab": {
          "base_uri": "https://localhost:8080/"
        },
        "outputId": "0a321636-e58a-46e1-b7c0-9902f75c5ac3"
      },
      "source": [
        "''' Grupo #11\n",
        "    Oscar Sierra\n",
        "    Juan David Sanchez\n",
        "    Andres Rubiano\n",
        "'''\n",
        "from queue import Queue\n",
        "from queue import PriorityQueue\n",
        "\n",
        "# Maximo numero de nodos\n",
        "n = 14\n",
        "oo = 1000000\n",
        "graph = [[] for i in range(n)]\n",
        "def dijkstra(G,start):\n",
        "    visitOrder = [-1] * n\n",
        "    father = [-1] * n\n",
        "    # Tabla para saber si un nodo se visito\n",
        "    distance = [oo] * n\n",
        "    q = PriorityQueue()\n",
        "    q.put((0,start))\n",
        "    distance[start] = 0\n",
        "    while q.empty() == False:\n",
        "        u = q.get()[1]\n",
        "        dis = distance[u]\n",
        "        visitOrder[u] = 1\n",
        "        for v,c in G[u]:\n",
        "           if (visitOrder[v]==-1):\n",
        "              disnew = dis + c\n",
        "              if (disnew < distance[v]):\n",
        "                distance[v] = disnew\n",
        "                q.put((disnew,v))\n",
        "                father[v] = u\n",
        "    return (distance,father)\n",
        "\n",
        "def shortest_path (G,start,end):\n",
        "  distance = dijkstra(G,start)[0]\n",
        "  father = dijkstra(G,start)[1]\n",
        "  print('El camino mas corto es de longitud: ')\n",
        "  print(distance[end])\n",
        "  Path = []\n",
        "  node = end\n",
        "  while node != -1:\n",
        "    Path.append(node)\n",
        "    node = father[node]\n",
        "  print('El camino es: ')\n",
        "  for i in range(1,len(Path)+1):\n",
        "    print(Path[-i])\n",
        "\n",
        "def addedge(x,y,cost):\n",
        "    graph[x].append((y,cost))\n",
        "    graph[y].append((x,cost))\n",
        "'''\n",
        "Para fines practicos\n",
        "  Bogota = 0\n",
        "  Ibague = 1\n",
        "  Tunja = 2\n",
        "  Villavicencio = 3\n",
        "  Pereira = 4\n",
        "  Armenia = 5\n",
        "  Pasto = 6\n",
        "  Manizales = 7\n",
        "  Cali = 8\n",
        "  Popayan = 9\n",
        "  Medellin = 10\n",
        "  Bucaramanga = 11\n",
        "  Neiva = 12\n",
        "  Quibdo = 13\n",
        "'''\n",
        "addedge(0,1,201)\n",
        "addedge(0,2,140)\n",
        "addedge(0,3,123)\n",
        "addedge(0,7,292)\n",
        "addedge(0,10,415)\n",
        "addedge(0,12,314)\n",
        "addedge(1,5,84)\n",
        "addedge(1,12,211)\n",
        "addedge(2,4,308)\n",
        "addedge(2,11,282)\n",
        "addedge(4,5,45)\n",
        "addedge(4,7,53)\n",
        "addedge(4,8,209)\n",
        "addedge(4,13,253)\n",
        "addedge(5,8,181)\n",
        "addedge(6,9,245)\n",
        "addedge(7,10,197)\n",
        "addedge(8,9,138)\n",
        "addedge(10,11,387)\n",
        "addedge(10,13,229)\n",
        "\n",
        "shortest_path(graph, 0, 4)"
      ],
      "execution_count": null,
      "outputs": [
        {
          "output_type": "stream",
          "name": "stdout",
          "text": [
            "El camino mas corto es de longitud: \n",
            "330\n",
            "El camino es: \n",
            "0\n",
            "1\n",
            "5\n",
            "4\n"
          ]
        }
      ]
    }
  ]
}